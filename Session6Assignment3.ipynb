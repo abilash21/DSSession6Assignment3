{
 "cells": [
  {
   "cell_type": "markdown",
   "metadata": {},
   "source": [
    "In a class on 100 students, 80 students passed in all subjects, 10 failed in one subject, 7\n",
    "failed in two subjects and 3 failed in three subjects. Find the probability distribution of\n",
    "the variable for number of subjects a student from the given class has failed in.\n"
   ]
  },
  {
   "cell_type": "code",
   "execution_count": 5,
   "metadata": {},
   "outputs": [
    {
     "name": "stdout",
     "output_type": "stream",
     "text": [
      "Total Number of Students 100\n",
      "No of Students passed in All Subjects 80\n",
      "No of Students failed in One Subject 10\n",
      "No of Students failed in two Subjects 7\n",
      "No of Students failed in three Subjects 3\n",
      "\n",
      "The probability distribution is the distribution table formed to obtain \n",
      "the occurrence of each event in the sample space\n",
      "\n",
      "Probability Distribution of Students passed in All Subjects is 80/100 =  0.8\n",
      "Probability Distribution of Students Failed in One Subject is 10/100 =  0.1\n",
      "Probability Distribution of Students Failed in two Subjects 7/100 =  0.07\n",
      "Probability Distribution of Students Failed in three Subjects 3/100 =  0.03\n"
     ]
    }
   ],
   "source": [
    "# Data\n",
    "totalStudents = 100 # Total Number of Students\n",
    "passedAllSub = 80 # No of Students passed in All Subject\n",
    "failedoneSub = 10 # No of Students failed in One Subject\n",
    "failedtwoSub =7 #No of Students failed in two Subjects\n",
    "failedthreeSub = 3 #No of Students failed in three Subjects\n",
    "\n",
    "print(\"Total Number of Students\", totalStudents)\n",
    "print(\"No of Students passed in All Subjects\", passedAllSub)\n",
    "print(\"No of Students failed in One Subject\",failedoneSub)\n",
    "print(\"No of Students failed in two Subjects\",failedtwoSub)\n",
    "print(\"No of Students failed in three Subjects\", failedthreeSub)\n",
    "#Probability Distribution\n",
    "print(\"\")\n",
    "print(\"The probability distribution is the distribution table formed to obtain \\nthe occurrence of each event in the sample space\\n\")\n",
    "\n",
    "#Probability Distribution of Students passed in All Subjects\n",
    "print(\"Probability Distribution of Students passed in All Subjects is 80/100 = \", passedAllSub/totalStudents)\n",
    "#Probability Distribution of Students Failed in One Subject\n",
    "print(\"Probability Distribution of Students Failed in One Subject is 10/100 = \", failedoneSub/totalStudents)\n",
    "#Probability Distribution of Students Failed in two Subjects\n",
    "print(\"Probability Distribution of Students Failed in two Subjects 7/100 = \", failedtwoSub/totalStudents)\n",
    "#Probability Distribution of Students Failed in three Subjects\n",
    "print(\"Probability Distribution of Students Failed in three Subjects 3/100 = \", failedthreeSub/totalStudents)"
   ]
  },
  {
   "cell_type": "code",
   "execution_count": null,
   "metadata": {
    "collapsed": true
   },
   "outputs": [],
   "source": []
  }
 ],
 "metadata": {
  "kernelspec": {
   "display_name": "Python 3",
   "language": "python",
   "name": "python3"
  },
  "language_info": {
   "codemirror_mode": {
    "name": "ipython",
    "version": 3
   },
   "file_extension": ".py",
   "mimetype": "text/x-python",
   "name": "python",
   "nbconvert_exporter": "python",
   "pygments_lexer": "ipython3",
   "version": "3.6.3"
  }
 },
 "nbformat": 4,
 "nbformat_minor": 2
}
